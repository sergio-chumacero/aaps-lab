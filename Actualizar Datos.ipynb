{
 "cells": [
  {
   "cell_type": "markdown",
   "metadata": {},
   "source": [
    "# Actualizar Datos desde el Sistema AAPS-API\n",
    "\n",
    "Los datos del sistema AAPS-API pueden cambiar entre sesiones.\n",
    "\n",
    "El siguiente botón, nos permite actualizar los datos para trabajar siempre con los datos más recientes.\n",
    "Si tienes tus credenciales del sistema AAPS-API (nombre de usuario + contraseña), ingrésalos abajo para acceder a los datos.\n",
    "\n",
    "Si ya los ingresaste alguna vez mediante esta herramienta, es probable que tengas un token de acceso guardado en tu sistema y no tengas que ingresarlos nuevamente. "
   ]
  },
  {
   "cell_type": "code",
   "execution_count": 21,
   "metadata": {},
   "outputs": [],
   "source": [
    "import ipywidgets as widgets\n",
    "import requests\n",
    "import requests_cache\n",
    "import os, json\n",
    "from os.path import dirname as up\n",
    "\n",
    "requests_cache.install_cache()"
   ]
  },
  {
   "cell_type": "code",
   "execution_count": 23,
   "metadata": {},
   "outputs": [
    {
     "data": {
      "application/vnd.jupyter.widget-view+json": {
       "model_id": "1a890f15fa1f49ccb5200af1a109a853",
       "version_major": 2,
       "version_minor": 0
      },
      "text/plain": [
       "HBox(children=(VBox(children=(Text(value='', description='Usuario:', placeholder='Usuario del sistema AAPS-API…"
      ]
     },
     "metadata": {},
     "output_type": "display_data"
    }
   ],
   "source": [
    "host = '200.87.123.68'\n",
    "protocol = 'http'\n",
    "\n",
    "username_widget = widgets.Text(\n",
    "    description='Usuario:',\n",
    "    placeholder='Usuario del sistema AAPS-API',\n",
    ")\n",
    "password_widget = widgets.Password(\n",
    "    description='Contraseña:',\n",
    "    placeholder='Contraseña del usuario'\n",
    ")\n",
    "update_button = widgets.Button(\n",
    "    description='Actualizar los datos!',\n",
    "    button_style='success',\n",
    "    disabled=True,\n",
    "    tooltip='Actualiza los datos locales desde el sistema AAPS-API!',\n",
    "    icon='download',\n",
    "    layout=widgets.Layout(width='300px')\n",
    ")\n",
    "show_password_button = widgets.ToggleButton(\n",
    "    value = False,\n",
    "    button_style='info',\n",
    "    tooltip='Mostrar Contraseña',\n",
    "    disabled=True,\n",
    "    icon='eye',\n",
    "    layout=widgets.Layout(width='40px')\n",
    ")\n",
    "\n",
    "help_html = widgets.HTML()\n",
    "help_html.layout.width='500px'\n",
    "\n",
    "def set_help_html(username, password, show_pass):\n",
    "    user_label = 'Nombre de Usuario:' if username != '' else ''\n",
    "    pass_label = 'Contraseña:' if password != '' else ''\n",
    "    encoded_pass = password if show_pass else '\\u2022' * len(password)\n",
    "    help_html.value = f\"<font color='gray'>{user_label}</font> {username} <font color='gray'>{pass_label}</font> {encoded_pass}\"\n",
    "\n",
    "def on_username_change(change):\n",
    "    set_help_html(change['new'], password_widget.value, show_password_button.value)\n",
    "    if change['new'] == '':\n",
    "        update_button.disabled = True\n",
    "    elif password_widget.value != '':\n",
    "        update_button.disabled = False\n",
    "\n",
    "def on_password_change(change):\n",
    "    set_help_html(username_widget.value,change['new'], show_password_button.value)\n",
    "    if change['new'] == '':\n",
    "        show_password_button.disabled = True\n",
    "        update_button.disabled = True\n",
    "    else:\n",
    "        show_password_button.disabled = False\n",
    "        if username_widget.value != '':\n",
    "            update_button.disabled = False\n",
    "\n",
    "def on_show_pass_change(change):\n",
    "    set_help_html(username_widget.value, password_widget.value, change['new'])\n",
    "        \n",
    "def on_update_button_click(b):\n",
    "    token_json_path = os.path.join(up(os.getcwd()), 'auth', 'token.json')\n",
    "    \n",
    "    try:\n",
    "        if not os.path.exists(token_json_path):\n",
    "            username = username_widget.value\n",
    "            password = password_widget.value\n",
    "            r = requests.post(f'{protocol}://{host}/api-token-auth/', json={'username':username, 'password':password})\n",
    "\n",
    "            if 'non_field_errors' in r.json().keys():\n",
    "                help_html.value = \"<font color='red'>Las credenciales proporcionadas no son válidas.</font> Verifica tus credenciales. Si el problema persiste, trata de ingresar a través de la <a href='https://aaps-data.appspot.com/admin/'>aplicación administrativa</a>. Si no puedes ingresar a través de esa página tampoco, contacta al administrador/administradora.\"\n",
    "            else:\n",
    "                os.makedirs(up(token_json_path))\n",
    "                with open(token_json_path,'w') as f:\n",
    "                    json.dump(r.json(),f)\n",
    "        else:\n",
    "            with open(token_json_path,'r') as f:\n",
    "                auth_token = json.load(f)['token']    \n",
    "            \n",
    "            headers = {'Authorization': f'Token {auth_token}'}\n",
    "            r = requests.get('https://aaps-data.appspot.com/api/epsas/', headers=headers)\n",
    "            help_html.value = r.text + str(r.from_cache)\n",
    "                \n",
    "    except Exception as e:\n",
    "        help_html.value = str(e)\n",
    "        \n",
    "        \n",
    "username_widget.observe(on_username_change, names='value')\n",
    "password_widget.observe(on_password_change, names='value')\n",
    "show_password_button.observe(on_show_pass_change, names='value')\n",
    "update_button.on_click(on_update_button_click)\n",
    "\n",
    "widgets.HBox([widgets.VBox([username_widget, widgets.HBox([password_widget, show_password_button]), update_button]), help_html])"
   ]
  },
  {
   "cell_type": "code",
   "execution_count": 20,
   "metadata": {},
   "outputs": [
    {
     "data": {
      "text/plain": [
       "'[{\"code\":\"EPSAS\",\"name\":\"Empresa Pública Social De Agua y Saneamiento\",\"state\":\"LP\",\"category\":\"A\"},{\"code\":\"MYEPSA\",\"name\":\"Epsa de prueba My Epsa\",\"state\":\"LP\",\"category\":\"A\"},{\"code\":\"SAGUAPAC\",\"name\":\"Cooperativa de Servicios Públicos Santa Cruz S.R.L.\",\"state\":\"SC\",\"category\":\"A\"},{\"code\":\"SEMAPA\",\"name\":\"Servicio de Agua Potable y Alcantarillado de Cochabamba\",\"state\":\"CO\",\"category\":\"A\"},{\"code\":\"AAPOS\",\"name\":\"Administración Autónoma para Obras Sanitarias\",\"state\":\"PO\",\"category\":\"B\"},{\"code\":\"BUSTILLO\",\"name\":\"Entidad Prestadora de Servicios de Agua Potable y Alcantarillado Sanitario Bustillo Mancomunitaria Social\",\"state\":\"PO\",\"category\":\"B\"},{\"code\":\"CAPAG\",\"name\":\"Cooperativa de Agua Potable y Alcantarillado Guayaramerín R.L.\",\"state\":\"BE\",\"category\":\"B\"},{\"code\":\"COATRI\",\"name\":\"Cooperativa de Servicios de Agua Potable y Alcantarillado Trinidad Ltda.\",\"state\":\"BE\",\"category\":\"B\"},{\"code\":\"COOPAGUAS\",\"name\":\"Cooperativa de Servicios Públicos 1ro de Mayo Ltda.\",\"state\":\"SC\",\"category\":\"B\"},{\"code\":\"COOPAPPI\",\"name\":\"Cooperativa de Servicios Públicos Pampa de La Isla Ltda.\",\"state\":\"SC\",\"category\":\"B\"},{\"code\":\"COOPLAN\",\"name\":\"Cooperativa de Servicios Públicos de Agua Potable y Alcantarillado Plan Tres Mil Ltda.\",\"state\":\"SC\",\"category\":\"B\"},{\"code\":\"COOSPELCAR\",\"name\":\"Cooperativa de Servicios Públicos El Carmen Ltda.\",\"state\":\"SC\",\"category\":\"B\"},{\"code\":\"COSAALT\",\"name\":\"Cooperativa de Servicios de Agua y Alcantarillado Tarija Ltda.\",\"state\":\"TA\",\"category\":\"B\"},{\"code\":\"COSMOL\",\"name\":\"Cooperativa de Servicios Públicos Montero S.R.L.\",\"state\":\"SC\",\"category\":\"B\"},{\"code\":\"COSPAIL\",\"name\":\"Cooperativa de Servicios Públicos Andrés Ibáñez R.L.\",\"state\":\"SC\",\"category\":\"B\"},{\"code\":\"ELAPAS\",\"name\":\"Empresa Local de Agua Potable y Alcantarillado Sucre\",\"state\":\"CH\",\"category\":\"B\"},{\"code\":\"EMAPAS\",\"name\":\"Empresa Municipal de Agua Potable y Alcantarillado Sacaba\",\"state\":\"CO\",\"category\":\"B\"},{\"code\":\"EMAPAV\",\"name\":\"Empresa Municipal de Agua Potable y Alcantarillado Viacha\",\"state\":\"LP\",\"category\":\"B\"},{\"code\":\"EMAPYC\",\"name\":\"Empresa Municipal de Agua Potable y Alcantarillado Sanitario Yacuiba\",\"state\":\"TA\",\"category\":\"B\"},{\"code\":\"EPSA COBIJA\",\"name\":\"Empresa Pública Municipal de Servicio de Agua Potable y Alcantarillado Sanitario Cobija\",\"state\":\"PA\",\"category\":\"B\"},{\"code\":\"MANCHACO\",\"name\":\"Entidad Prestadora de Servicios de Agua Potable y Alcantarillado Sanitario Mancomunidad Social Chaco\",\"state\":\"TA\",\"category\":\"B\"},{\"code\":\"SAJUBA\",\"name\":\"Cooperativa de Servicios de Agua Potable y Alcantarillado San Juan Bautista Ltda.\",\"state\":\"SC\",\"category\":\"B\"},{\"code\":\"SELA\",\"name\":\"Servicio Local de Acueductos y Alcantarillado Oruro\",\"state\":\"OR\",\"category\":\"B\"},{\"code\":\"6 DE OCTUBRE\",\"name\":\"Cooperativa de Servicios Públicos 6 de Octubre Ltda.\",\"state\":\"SC\",\"category\":\"C\"},{\"code\":\"CAPSCH\",\"name\":\"Cooperativa de Agua Potable y Servicios Chimoré Ltda.\",\"state\":\"CO\",\"category\":\"C\"},{\"code\":\"CAPU\",\"name\":\"Cooperativa de Agua Potable Uyuni R.L.\",\"state\":\"PO\",\"category\":\"C\"},{\"code\":\"COAPASB\",\"name\":\"Cooperativa de Agua Potable y Alcantarillado Sanitario San Borja Ltda.\",\"state\":\"BE\",\"category\":\"C\"},{\"code\":\"COMAYO\",\"name\":\"Cooperativa de Servicios Públicos 1ro de Mayo Ltda.\",\"state\":\"SC\",\"category\":\"C\"},{\"code\":\"COOPAGUAB\",\"name\":\"Cooperativa de Servicios Públicos Buena Vista Ltda.\",\"state\":\"SC\",\"category\":\"C\"},{\"code\":\"COOPLIM\",\"name\":\"Cooperativa de Servicios Públicos Limoncito Puerto Rico S.R.L.\",\"state\":\"SC\",\"category\":\"C\"},{\"code\":\"COOSIV\",\"name\":\"Cooperativa de Servicios Públicos San Ignacio de Velasco Ltda.\",\"state\":\"SC\",\"category\":\"C\"},{\"code\":\"COSAJU\",\"name\":\"Cooperativa de Servicios de Agua Potable San Julián S.R.L.\",\"state\":\"SC\",\"category\":\"C\"},{\"code\":\"COSAP\",\"name\":\"Cooperativa de Servicios de Agua Potable Cotoca Ltda.\",\"state\":\"SC\",\"category\":\"C\"},{\"code\":\"COSAPAC\",\"name\":\"Cooperativa de Agua Potable y Alcantarillado Sanitario Caranavi Ltda.\",\"state\":\"LP\",\"category\":\"C\"},{\"code\":\"COSAPSI\",\"name\":\"Cooperativa de Servicios de Agua Potable y Alcantarillado COSAPSI Ltda.\",\"state\":\"LP\",\"category\":\"C\"},{\"code\":\"COSCHAL\",\"name\":\"Cooperativa de Servicios Públicos Villa Los Chacos Ltda.\",\"state\":\"SC\",\"category\":\"C\"},{\"code\":\"COSEPCO\",\"name\":\"Cooperativa de Servicios Públicos Concepción Ltda.\",\"state\":\"SC\",\"category\":\"C\"},{\"code\":\"COSEPUR\",\"name\":\"Cooperativa de Servicios Públicos Roboré Ltda.\",\"state\":\"SC\",\"category\":\"C\"},{\"code\":\"COSEPW\",\"name\":\"Cooperativa de Servicios Públicos Warnes R.L.\",\"state\":\"SC\",\"category\":\"C\"},{\"code\":\"COSFAL\",\"name\":\"Cooperativa de Servicios Públicos Nuestra Señora de Fátima Ltda.\",\"state\":\"SC\",\"category\":\"C\"},{\"code\":\"COSIMBO\",\"name\":\"Cooperativa de Servicios Públicos Libertador Simón Bolívar Ltda.\",\"state\":\"SC\",\"category\":\"C\"},{\"code\":\"COSMIN\",\"name\":\"Cooperativa de Servicios Públicos Minero Ltda.\",\"state\":\"SC\",\"category\":\"C\"},{\"code\":\"COSMON\",\"name\":\"Cooperativa de Servicios Públicos Montes Claros Ltda.\",\"state\":\"SC\",\"category\":\"C\"},{\"code\":\"COSPAS\",\"name\":\"Cooperativa de Servicios Públicos Ascensión de Guarayos Ltda.\",\"state\":\"SC\",\"category\":\"C\"},{\"code\":\"COSPHUL\",\"name\":\"Cooperativa de Servicios Públicos Humberto Leigue Ltda.\",\"state\":\"SC\",\"category\":\"C\"},{\"code\":\"COSPOL\",\"name\":\"Cooperativa de Servicios Públicos Portachuelo Ltda.\",\"state\":\"SC\",\"category\":\"C\"},{\"code\":\"COSPUGEBUL\",\"name\":\"Cooperativa de Servicios Públicos Germán Busch Ltda.\",\"state\":\"SC\",\"category\":\"C\"},{\"code\":\"COSSAJA\",\"name\":\"Cooperativa de Servicios Públicos San Javier Ltda.\",\"state\":\"SC\",\"category\":\"C\"},{\"code\":\"EMAAB\",\"name\":\"Empresa Municipal de Agua Potable y Alcantarillado Sanitario Bermejo\",\"state\":\"TA\",\"category\":\"C\"},{\"code\":\"EMAPA\",\"name\":\"Empresa Municipal de Agua Potable y Alcantarillado EMAPA\",\"state\":\"OR\",\"category\":\"C\"},{\"code\":\"EMPSAAT\",\"name\":\"Empresa Municipal Prestadora de Servicios de Agua Potable y Alcantarillado Sanitario Tupiza\",\"state\":\"PO\",\"category\":\"C\"},{\"code\":\"EMSABAV\",\"name\":\"Empresa Municipal de Saneamiento Básico Villazón\",\"state\":\"PO\",\"category\":\"C\"},{\"code\":\"FLORIDA\",\"name\":\"Cooperativa de Servicios Públicos Florida Ltda.\",\"state\":\"SC\",\"category\":\"C\"},{\"code\":\"LA GUARDIA\",\"name\":\"Cooperativa de Servicios Públicos La Guardia Ltda.\",\"state\":\"SC\",\"category\":\"C\"},{\"code\":\"LA PORTEÑA\",\"name\":\"Cooperativa de Servicios Públicos La Porteña Ltda.\",\"state\":\"SC\",\"category\":\"C\"},{\"code\":\"SAMAPAR\",\"name\":\"Servicio Autónomo Municipal de Agua Potable y Alcantarillado Rurrenabaque\",\"state\":\"BE\",\"category\":\"C\"},{\"code\":\"SEAPAS\",\"name\":\"Cooperativa de Servicios Públicos El Torno Santa Rita Ltda.\",\"state\":\"SC\",\"category\":\"C\"},{\"code\":\"SEMAPAR\",\"name\":\"Servicio Municipal de Agua Potable y Alcantarillado Sanitario de Riberalta\",\"state\":\"BE\",\"category\":\"C\"},{\"code\":\"SMAPA\",\"name\":\"Servicio Municipal de Agua Potable y Alcantarillado Challapata\",\"state\":\"OR\",\"category\":\"C\"},{\"code\":\"AGUAYSES\",\"name\":\"Cooperativa de Agua Potable y Servicios Sanitarios\",\"state\":\"SC\",\"category\":\"D\"},{\"code\":\"ASOAPAL\",\"name\":\"Asociación de Servicio de Agua Potable y Alcantarillado Sanitario de\",\"state\":\"CO\",\"category\":\"D\"},{\"code\":\"CAPCHI\",\"name\":\"Cooperativa de Agua Potable Chane Independencia Ltda.\",\"state\":\"SC\",\"category\":\"D\"},{\"code\":\"COAPAS VINTO\",\"name\":\"Cooperativa de Agua Potable y Alcantarillado Sanitario Vinto Ltda.\",\"state\":\"OR\",\"category\":\"D\"},{\"code\":\"COLOMI\",\"name\":\"Servicio de Agua Potable y Alcantarillado Sanitario Colomi\",\"state\":\"CO\",\"category\":\"D\"},{\"code\":\"COOAPASH\",\"name\":\"Cooperativa de Agua Potable y Alcantarillado Servicios Shinahota Ltda.\",\"state\":\"CO\",\"category\":\"D\"},{\"code\":\"COSAJO\",\"name\":\"Cooperativa de Servicios Públicos San José Santa Martha Ltda\",\"state\":\"SC\",\"category\":\"D\"},{\"code\":\"COSEPFA\",\"name\":\"Cooperativa de Servicios Públicos Fernandez Alonso Ltda.\",\"state\":\"SC\",\"category\":\"D\"},{\"code\":\"COSEPP\",\"name\":\"Cooperativa de Servicios Públicos Padilla Ltda.\",\"state\":\"CH\",\"category\":\"D\"},{\"code\":\"COSERCA\",\"name\":\"Cooperativa de Servicios Públicos Camargo Ltda.\",\"state\":\"CH\",\"category\":\"D\"},{\"code\":\"JASAP\",\"name\":\"Junta Administradora del Sistema de Alcantarillado y Agua Potable\",\"state\":\"CO\",\"category\":\"D\"},{\"code\":\"JOROCHITO\",\"name\":\"Cooperativa de Servicios Públicos San Juan Ltda\",\"state\":\"SC\",\"category\":\"D\"}]'"
      ]
     },
     "execution_count": 20,
     "metadata": {},
     "output_type": "execute_result"
    }
   ],
   "source": [
    "r = requests.get('https://aaps-data.appspot.com/api/epsas/')\n",
    "r.text"
   ]
  }
 ],
 "metadata": {
  "kernelspec": {
   "display_name": "Python 3",
   "language": "python",
   "name": "python3"
  },
  "language_info": {
   "codemirror_mode": {
    "name": "ipython",
    "version": 3
   },
   "file_extension": ".py",
   "mimetype": "text/x-python",
   "name": "python",
   "nbconvert_exporter": "python",
   "pygments_lexer": "ipython3",
   "version": "3.7.1"
  }
 },
 "nbformat": 4,
 "nbformat_minor": 2
}
