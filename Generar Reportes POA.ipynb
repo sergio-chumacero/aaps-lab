{
 "cells": [
  {
   "cell_type": "markdown",
   "metadata": {},
   "source": [
    "# Generar Reportes POA\n",
    "\n",
    "Esta herramienta permite generar reportes de POA de manera automática.\n",
    "\n",
    "Utiliza los datos de POA COOPERATIVAS y POA EPSA MUNICIPALES, que pueden ser descargados desde la herramienta\n",
    "<a href='http://localhost:8888/apps/Actualizar%20o%20Descargar%20Datos.ipynb?appmode_scroll=0' target=_>Actualizar/Descargar Datos</a>."
   ]
  },
  {
   "cell_type": "code",
   "execution_count": null,
   "metadata": {},
   "outputs": [],
   "source": [
    "GenerateReportWidget()"
   ]
  }
 ],
 "metadata": {
  "kernelspec": {
   "display_name": "Python 3",
   "language": "python",
   "name": "python3"
  },
  "language_info": {
   "codemirror_mode": {
    "name": "ipython",
    "version": 3
   },
   "file_extension": ".py",
   "mimetype": "text/x-python",
   "name": "python",
   "nbconvert_exporter": "python",
   "pygments_lexer": "ipython3",
   "version": "3.6.8"
  }
 },
 "nbformat": 4,
 "nbformat_minor": 2
}
