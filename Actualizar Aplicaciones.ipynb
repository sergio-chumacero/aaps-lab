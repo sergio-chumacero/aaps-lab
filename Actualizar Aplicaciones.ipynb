{
 "cells": [
  {
   "cell_type": "markdown",
   "metadata": {},
   "source": [
    "# Actualizar Aplicaciones y Archivos\n",
    "\n",
    "Las aplicaciones y archivos ofrecidos actualmente son accesibles a través del repositorio de github [`https://github.com/sergio-chumacero/aaps-lab`](https://github.com/sergio-chumacero/aaps-lab). \n",
    "\n",
    "Al hacer click en el siguiente botón, se sincronizarán tus aplicaciones y archivos con la versión más reciente."
   ]
  },
  {
   "cell_type": "code",
   "execution_count": 1,
   "metadata": {},
   "outputs": [],
   "source": [
    "import ipywidgets as widgets\n",
    "import git"
   ]
  },
  {
   "cell_type": "code",
   "execution_count": 1,
   "metadata": {},
   "outputs": [
    {
     "ename": "NameError",
     "evalue": "name 'widgets' is not defined",
     "output_type": "error",
     "traceback": [
      "\u001b[1;31m---------------------------------------------------------------------------\u001b[0m",
      "\u001b[1;31mNameError\u001b[0m                                 Traceback (most recent call last)",
      "\u001b[1;32m<ipython-input-1-4b3c59396085>\u001b[0m in \u001b[0;36m<module>\u001b[1;34m\u001b[0m\n\u001b[1;32m----> 1\u001b[1;33m update_button = widgets.Button(\n\u001b[0m\u001b[0;32m      2\u001b[0m     \u001b[0mdescription\u001b[0m\u001b[1;33m=\u001b[0m\u001b[1;34m'Actualizar las Aplicaciones!'\u001b[0m\u001b[1;33m,\u001b[0m\u001b[1;33m\u001b[0m\u001b[1;33m\u001b[0m\u001b[0m\n\u001b[0;32m      3\u001b[0m     \u001b[0mdisabled\u001b[0m\u001b[1;33m=\u001b[0m\u001b[1;32mFalse\u001b[0m\u001b[1;33m,\u001b[0m\u001b[1;33m\u001b[0m\u001b[1;33m\u001b[0m\u001b[0m\n\u001b[0;32m      4\u001b[0m     \u001b[0mbutton_style\u001b[0m\u001b[1;33m=\u001b[0m\u001b[1;34m'success'\u001b[0m\u001b[1;33m,\u001b[0m\u001b[1;33m\u001b[0m\u001b[1;33m\u001b[0m\u001b[0m\n\u001b[0;32m      5\u001b[0m     \u001b[0mtooltip\u001b[0m\u001b[1;33m=\u001b[0m\u001b[1;34m'Actualiza los archivos y aplicaciones disponibles.'\u001b[0m\u001b[1;33m,\u001b[0m\u001b[1;33m\u001b[0m\u001b[1;33m\u001b[0m\u001b[0m\n",
      "\u001b[1;31mNameError\u001b[0m: name 'widgets' is not defined"
     ]
    }
   ],
   "source": [
    "update_button = widgets.Button(\n",
    "    description='Actualizar las Aplicaciones!',\n",
    "    disabled=False,\n",
    "    button_style='success',\n",
    "    tooltip='Actualiza los archivos y aplicaciones disponibles.',\n",
    "    icon='download',\n",
    "    layout=widgets.Layout(\n",
    "        height='80px',\n",
    "        width='200px',\n",
    "    )\n",
    ")\n",
    "\n",
    "def on_update_button_click(b):\n",
    "    git.Git(\"../\").clone(\"git://github.com/sergio-chumacero/aapsapi.git\")\n",
    "\n",
    "update_button.on_click(on_update_button_click)\n",
    "widgets.HBox([update_button], layout=widgets.Layout(display='flex',flex_flow='row', align_items='flex-end'))"
   ]
  },
  {
   "cell_type": "markdown",
   "metadata": {},
   "source": [
    "Las aplicaciones y archivos están contenidos en el archivo `aaps-lab` en tu directorio principal de AAPS-LAB (generalmente `C:\\Users\\<nombre-de-usuario\\aaps-lab>`).\n",
    "\n",
    "<img src='./img/update_instructions.png'></img>\n",
    "Si eliminaste o modificaste archivos dentro de este directorio por accidente o de manera voluntaria, **los cambios serán revertidos**.\n",
    "\n",
    "Ninún archivo fuera de este directorio será modificado."
   ]
  }
 ],
 "metadata": {
  "kernelspec": {
   "display_name": "Python 3",
   "language": "python",
   "name": "python3"
  },
  "language_info": {
   "codemirror_mode": {
    "name": "ipython",
    "version": 3
   },
   "file_extension": ".py",
   "mimetype": "text/x-python",
   "name": "python",
   "nbconvert_exporter": "python",
   "pygments_lexer": "ipython3",
   "version": "3.7.1"
  }
 },
 "nbformat": 4,
 "nbformat_minor": 2
}
