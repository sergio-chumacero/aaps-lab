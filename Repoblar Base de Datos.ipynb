{
 "cells": [
  {
   "cell_type": "markdown",
   "metadata": {},
   "source": [
    "# Repoblar Base de Datos\n",
    "\n",
    "Aplicación creada para repoblar la base de datos de cero.\n",
    "\n",
    "Esta Aplicación sólo te permitirá cargar datos al sistema AAPS-API si tus credenciales son del tipo administrativo."
   ]
  },
  {
   "cell_type": "code",
   "execution_count": 1,
   "metadata": {},
   "outputs": [
    {
     "data": {
      "application/vnd.jupyter.widget-view+json": {
       "model_id": "0f07d5e1d1eb4de6954d5b391e3cd3e5",
       "version_major": 2,
       "version_minor": 0
      },
      "text/plain": [
       "LoginWidget(children=(HTML(value=\"<font color='red'>Parece que no cuentas con un token de autorización. Por fa…"
      ]
     },
     "metadata": {},
     "output_type": "display_data"
    }
   ],
   "source": [
    "from tools.widgets import LoginWidget\n",
    "login_widget = LoginWidget()\n",
    "login_widget"
   ]
  }
 ],
 "metadata": {
  "kernelspec": {
   "display_name": "Python 3",
   "language": "python",
   "name": "python3"
  },
  "language_info": {
   "codemirror_mode": {
    "name": "ipython",
    "version": 3
   },
   "file_extension": ".py",
   "mimetype": "text/x-python",
   "name": "python",
   "nbconvert_exporter": "python",
   "pygments_lexer": "ipython3",
   "version": "3.7.1"
  }
 },
 "nbformat": 4,
 "nbformat_minor": 2
}
